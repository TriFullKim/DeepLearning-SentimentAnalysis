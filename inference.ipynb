{
 "cells": [
  {
   "cell_type": "code",
   "execution_count": 12,
   "metadata": {},
   "outputs": [],
   "source": [
    "import pandas as pd"
   ]
  },
  {
   "cell_type": "code",
   "execution_count": 57,
   "metadata": {},
   "outputs": [],
   "source": [
    "from modules.util import load_json, load_pkl\n",
    "from modules.train import clean_text, word_to_num, seq_padding, SentimentAnalysisRNN, calculate_accuracy\n",
    "\n",
    "reviews = load_json(\"./database/venom_review.json\")"
   ]
  },
  {
   "cell_type": "code",
   "execution_count": 26,
   "metadata": {},
   "outputs": [],
   "source": [
    "target_data = {}\n",
    "target_data[\"sentiment\"] = []\n",
    "target_data[\"review\"] = []\n",
    "for i,review in enumerate(reviews[\"reviews\"]):\n",
    "    target_data[\"sentiment\"].append(int(review[\"isFresh\"]))\n",
    "    target_data[\"review\"].append(review[\"quote\"])\n",
    "\n",
    "target_data = pd.DataFrame(target_data)"
   ]
  },
  {
   "cell_type": "code",
   "execution_count": 36,
   "metadata": {},
   "outputs": [
    {
     "data": {
      "text/plain": [
       "27"
      ]
     },
     "execution_count": 36,
     "metadata": {},
     "output_type": "execute_result"
    }
   ],
   "source": [
    "from nltk.tokenize import TreebankWordTokenizer\n",
    "word2idx = load_pkl(\"./word2index.pkl\")\n",
    "\n",
    "# 텍스트 데이터 전처리\n",
    "target_data = target_data.drop_duplicates(subset=\"review\")\n",
    "target_data[\"review_cleaned\"] = target_data[\"review\"].apply(clean_text)\n",
    "\n",
    "# Tokenization\n",
    "tokenizer = TreebankWordTokenizer()\n",
    "target_data.loc[:, \"review_tokenized\"] = target_data.loc[:, \"review_cleaned\"].apply(tokenizer.tokenize)\n",
    "target_data[\"review_numbered\"] = target_data[\"review_tokenized\"].apply(lambda _X: [word_to_num(word,word2idx) for word in _X])\n",
    "target_data[\"token_length\"] = target_data[\"review_numbered\"].apply(lambda _X: len(_X))\n",
    "\n",
    "max(target_data[\"token_length\"])"
   ]
  },
  {
   "cell_type": "code",
   "execution_count": null,
   "metadata": {},
   "outputs": [
    {
     "data": {
      "text/plain": [
       "SentimentAnalysisRNN(\n",
       "  (embed): Embedding(68505, 256)\n",
       "  (rnn): RNN(256, 1024, batch_first=True)\n",
       "  (fc1): Linear(in_features=1024, out_features=128, bias=True)\n",
       "  (fc2): Linear(in_features=128, out_features=2, bias=True)\n",
       "  (softmax): Softmax(dim=1)\n",
       ")"
      ]
     },
     "execution_count": 50,
     "metadata": {},
     "output_type": "execute_result"
    }
   ],
   "source": [
    "import torch\n",
    "\n",
    "model = SentimentAnalysisRNN(68505, 256, 1024, 2)\n",
    "model.load_state_dict(torch.load(\"./best_model_checkpoint-2024-11-04 03:19:52.630041.pth\", weights_only=True))"
   ]
  },
  {
   "cell_type": "code",
   "execution_count": 73,
   "metadata": {},
   "outputs": [],
   "source": [
    "target = seq_padding(target_data[\"review_numbered\"])\n",
    "label = torch.tensor(target_data[\"sentiment\"].to_numpy())"
   ]
  },
  {
   "cell_type": "code",
   "execution_count": null,
   "metadata": {},
   "outputs": [
    {
     "name": "stdout",
     "output_type": "stream",
     "text": [
      "tensor(0.5484)\n"
     ]
    }
   ],
   "source": [
    "model.eval()\n",
    "with torch.no_grad():\n",
    "    total = target.shape[0]\n",
    "    correct = (torch.argmax(model(target), dim=1) == label).sum()\n",
    "    print(correct / total)"
   ]
  }
 ],
 "metadata": {
  "kernelspec": {
   "display_name": "sentLSTM",
   "language": "python",
   "name": "python3"
  },
  "language_info": {
   "codemirror_mode": {
    "name": "ipython",
    "version": 3
   },
   "file_extension": ".py",
   "mimetype": "text/x-python",
   "name": "python",
   "nbconvert_exporter": "python",
   "pygments_lexer": "ipython3",
   "version": "3.9.20"
  }
 },
 "nbformat": 4,
 "nbformat_minor": 2
}
