{
 "cells": [
  {
   "cell_type": "code",
   "execution_count": null,
   "metadata": {},
   "outputs": [],
   "source": [
    "# from sklearn.model_selection import train_test_split\n",
    "import matplotlib.pyplot as plt\n",
    "import numpy as np\n",
    "import pandas as pd"
   ]
  },
  {
   "cell_type": "code",
   "execution_count": null,
   "metadata": {},
   "outputs": [],
   "source": [
    "from modules.util import load_pkl\n",
    "IMDB_512 = load_pkl(\"./database/embedded_pad_token.pkl\")"
   ]
  },
  {
   "cell_type": "code",
   "execution_count": null,
   "metadata": {},
   "outputs": [],
   "source": [
    "import torch\n",
    "import torch.nn as nn\n",
    "import torch.optim as optim\n",
    "import torch.nn.functional as F\n",
    "\n",
    "from torch.utils.data import TensorDataset, DataLoader\n",
    "from torch.utils.data.dataset import random_split\n",
    "\n",
    "torch.manual_seed(42)\n",
    "device = torch.device(\"cuda:0\" if torch.cuda.is_available() else \"cpu\")\n",
    "\n",
    "# Param\n",
    "LEARNING_RATE = 0.001\n",
    "N_EPOCHS = 25\n",
    "BATCH_SIZE = 256\n",
    "\n",
    "VOCAB_SIZE = 28996\n",
    "EMBED_SIZE = 128\n",
    "HIDDEN_SIZE = 64\n",
    "HIDDEN_LAYER_DEPTH = 1\n",
    "OUTPUT_DIM = 1"
   ]
  },
  {
   "cell_type": "code",
   "execution_count": null,
   "metadata": {},
   "outputs": [
    {
     "data": {
      "text/plain": [
       "(47745, 512)"
      ]
     },
     "metadata": {},
     "output_type": "display_data"
    }
   ],
   "source": [
    "IMDB_trainset = IMDB_512[[\"padded_token\",\"sentiment\"]]\n",
    "x_train = torch.tensor(IMDB_trainset[\"padded_token\"].to_list(),dtype=torch.int32)\n",
    "y_train = torch.tensor(IMDB_trainset[\"sentiment\"].to_list(),dtype=torch.float32).unsqueeze(1)\n",
    "\n",
    "total_sample_size, content_length = x_train.shape\n",
    "total_sample_size, content_length"
   ]
  },
  {
   "cell_type": "code",
   "execution_count": null,
   "metadata": {},
   "outputs": [],
   "source": [
    "# 미니배치 단위로 Loss Backprop을 하기 위해 DataLoader 설정하기.\n",
    "dataset = TensorDataset(x_train, y_train)\n",
    "dataloader = DataLoader(dataset, batch_size=BATCH_SIZE, shuffle=True)"
   ]
  },
  {
   "cell_type": "code",
   "execution_count": null,
   "metadata": {},
   "outputs": [],
   "source": [
    "class SentimentAnalysisRNN(nn.Module):\n",
    "    def __init__(\n",
    "        self,\n",
    "        vocab_dim=VOCAB_SIZE,\n",
    "        embedding_dim=EMBED_SIZE,\n",
    "        hidden_dim=HIDDEN_SIZE,\n",
    "        layer_depth=HIDDEN_LAYER_DEPTH,\n",
    "        output_dim=OUTPUT_DIM,\n",
    "        device=device,\n",
    "    ) -> None:\n",
    "        super(SentimentAnalysisRNN, self).__init__()\n",
    "\n",
    "        self.embed = nn.Embedding(vocab_dim, embedding_dim)\n",
    "        self.rnn = nn.RNN(embedding_dim, hidden_dim, num_layers=layer_depth, batch_first=True)\n",
    "        self.fc = nn.Linear(hidden_dim, output_dim)\n",
    "        self.sigmoid = nn.Sigmoid()  # 시그모이드 활성화 함수 추가\n",
    "\n",
    "        self.hidden_dim = hidden_dim\n",
    "        self.layer_depth = layer_depth\n",
    "        self.device = device\n",
    "\n",
    "    def forward(self, x):\n",
    "        embed = self.embed(x)\n",
    "        y_t_list, h_t_list = self.rnn(embed)\n",
    "        y_t = y_t_list[:, -1, :]\n",
    "        out = self.fc(y_t)  # 마지막 RNN 출력을 사용\n",
    "        return out\n",
    "\n",
    "\n",
    "# Training setup\n",
    "model = SentimentAnalysisRNN(device=device).to(device)\n",
    "loss_fn = nn.BCELoss().to(device)\n",
    "optimizer = optim.Adam(model.parameters(), lr=LEARNING_RATE)"
   ]
  },
  {
   "cell_type": "code",
   "execution_count": null,
   "metadata": {},
   "outputs": [],
   "source": [
    "# loss_obs = []\n",
    "# for i in tqdm(range(100)):\n",
    "#     for batch_idx, samples in enumerate(dataloader):\n",
    "#         x_batch,y_batch = samples\n",
    "#         x_batch = x_batch.to(device)\n",
    "#         y_batch = y_batch.to(device)\n",
    "        \n",
    "#         optimizer.zero_grad()\n",
    "#         predicted = model(x_batch)\n",
    "        \n",
    "#         loss = loss_fn(predicted,y_batch.float())\n",
    "#         loss.backward()\n",
    "#         optimizer.step()\n",
    "        \n",
    "#         if batch_idx%15==0:\n",
    "#             print(loss,predicted,y_batch)\n",
    "#             break\n",
    "        \n",
    "\n",
    "#     break"
   ]
  }
 ],
 "metadata": {
  "kernelspec": {
   "display_name": "sentLSTM",
   "language": "python",
   "name": "python3"
  },
  "language_info": {
   "codemirror_mode": {
    "name": "ipython",
    "version": 3
   },
   "file_extension": ".py",
   "mimetype": "text/x-python",
   "name": "python",
   "nbconvert_exporter": "python",
   "pygments_lexer": "ipython3",
   "version": "3.9.20"
  }
 },
 "nbformat": 4,
 "nbformat_minor": 2
}
