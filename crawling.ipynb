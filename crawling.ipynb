{
 "cells": [
  {
   "cell_type": "code",
   "execution_count": 1,
   "metadata": {},
   "outputs": [],
   "source": [
    "# from time import sleep\n",
    "# from modules.util import jsonify, time_gap, save_json\n",
    "# from modules.crawl import reviewAPI\n"
   ]
  },
  {
   "cell_type": "code",
   "execution_count": 2,
   "metadata": {},
   "outputs": [],
   "source": [
    "# # Constant Setting\n",
    "# HAS_NEXT_PAGE = True\n",
    "# NEXT_CURSOR = \"\"\n",
    "# crawled_reviews = {}\n",
    "\n",
    "# #  Crawling\n",
    "# while HAS_NEXT_PAGE:\n",
    "#     # API Requests\n",
    "#     next_reviews = (\n",
    "#         reviewAPI().get(uuid=\"0f101f8c-ec09-39c4-9be0-2f9cc464d332\", cursor=NEXT_CURSOR, page_count=20).text\n",
    "#     )\n",
    "#     next_reviews = jsonify(next_reviews)\n",
    "\n",
    "#     # Save as Dictionary\n",
    "#     if len(crawled_reviews) == 0:\n",
    "#         crawled_reviews = next_reviews\n",
    "#     else:\n",
    "#         crawled_reviews[\"reviews\"].extend(next_reviews[\"reviews\"])\n",
    "\n",
    "#     # Next Request Conditions\n",
    "#     HAS_NEXT_PAGE = next_reviews[\"pageInfo\"][\"hasNextPage\"]\n",
    "#     NEXT_CURSOR = (\n",
    "#         next_reviews[\"pageInfo\"][\"endCursor\"]\n",
    "#         if (\"endCursor\" in next_reviews[\"pageInfo\"].keys()) & HAS_NEXT_PAGE\n",
    "#         else \"\"\n",
    "#     )\n",
    "\n",
    "#     # Time Delay\n",
    "#     sleep(time_gap(mu=4))\n",
    "\n",
    "# # Save Dictionary to JSON files\n",
    "# save_json(\"./database/venom_review.json\", crawled_reviews)"
   ]
  },
  {
   "cell_type": "code",
   "execution_count": null,
   "metadata": {},
   "outputs": [
    {
     "data": {
      "text/html": [
       "<div>\n",
       "<style scoped>\n",
       "    .dataframe tbody tr th:only-of-type {\n",
       "        vertical-align: middle;\n",
       "    }\n",
       "\n",
       "    .dataframe tbody tr th {\n",
       "        vertical-align: top;\n",
       "    }\n",
       "\n",
       "    .dataframe thead th {\n",
       "        text-align: right;\n",
       "    }\n",
       "</style>\n",
       "<table border=\"1\" class=\"dataframe\">\n",
       "  <thead>\n",
       "    <tr style=\"text-align: right;\">\n",
       "      <th></th>\n",
       "      <th>review</th>\n",
       "      <th>sentiment</th>\n",
       "    </tr>\n",
       "  </thead>\n",
       "  <tbody>\n",
       "    <tr>\n",
       "      <th>0</th>\n",
       "      <td>Sadly&amp;#44; the film stumbles through a series ...</td>\n",
       "      <td>NEGATIVE</td>\n",
       "    </tr>\n",
       "    <tr>\n",
       "      <th>1</th>\n",
       "      <td>There's plenty of satisfying set pieces here a...</td>\n",
       "      <td>POSITIVE</td>\n",
       "    </tr>\n",
       "    <tr>\n",
       "      <th>2</th>\n",
       "      <td>It’s Tom Hardy show and as expected he hits th...</td>\n",
       "      <td>POSITIVE</td>\n",
       "    </tr>\n",
       "    <tr>\n",
       "      <th>3</th>\n",
       "      <td>This is a flawed&amp;#44; but enjoyable movie desp...</td>\n",
       "      <td>POSITIVE</td>\n",
       "    </tr>\n",
       "    <tr>\n",
       "      <th>4</th>\n",
       "      <td>Despite featuring a Venom horse and Venom danc...</td>\n",
       "      <td>NEGATIVE</td>\n",
       "    </tr>\n",
       "    <tr>\n",
       "      <th>...</th>\n",
       "      <td>...</td>\n",
       "      <td>...</td>\n",
       "    </tr>\n",
       "    <tr>\n",
       "      <th>168</th>\n",
       "      <td>A futile third Venom movie that fails to give ...</td>\n",
       "      <td>NEGATIVE</td>\n",
       "    </tr>\n",
       "    <tr>\n",
       "      <th>169</th>\n",
       "      <td>As the film progresses&amp;#44; it consistently es...</td>\n",
       "      <td>POSITIVE</td>\n",
       "    </tr>\n",
       "    <tr>\n",
       "      <th>170</th>\n",
       "      <td>In a whirlwind of chaotic creativity&amp;#44; Veno...</td>\n",
       "      <td>NEGATIVE</td>\n",
       "    </tr>\n",
       "    <tr>\n",
       "      <th>171</th>\n",
       "      <td>“The Last Dance” brings nothing new to the ser...</td>\n",
       "      <td>NEGATIVE</td>\n",
       "    </tr>\n",
       "    <tr>\n",
       "      <th>172</th>\n",
       "      <td>This movie could properly be titled, Venom: Th...</td>\n",
       "      <td>NEGATIVE</td>\n",
       "    </tr>\n",
       "  </tbody>\n",
       "</table>\n",
       "<p>173 rows × 2 columns</p>\n",
       "</div>"
      ],
      "text/plain": [
       "                                                review sentiment\n",
       "0    Sadly&#44; the film stumbles through a series ...  NEGATIVE\n",
       "1    There's plenty of satisfying set pieces here a...  POSITIVE\n",
       "2    It’s Tom Hardy show and as expected he hits th...  POSITIVE\n",
       "3    This is a flawed&#44; but enjoyable movie desp...  POSITIVE\n",
       "4    Despite featuring a Venom horse and Venom danc...  NEGATIVE\n",
       "..                                                 ...       ...\n",
       "168  A futile third Venom movie that fails to give ...  NEGATIVE\n",
       "169  As the film progresses&#44; it consistently es...  POSITIVE\n",
       "170  In a whirlwind of chaotic creativity&#44; Veno...  NEGATIVE\n",
       "171  “The Last Dance” brings nothing new to the ser...  NEGATIVE\n",
       "172  This movie could properly be titled, Venom: Th...  NEGATIVE\n",
       "\n",
       "[173 rows x 2 columns]"
      ]
     },
     "execution_count": 3,
     "metadata": {},
     "output_type": "execute_result"
    }
   ],
   "source": [
    "import json\n",
    "import numpy as np  \n",
    "import pandas as pd\n",
    "with open(\"../database/venom_review.json\", 'r', encoding='utf-8') as file:\n",
    "    data = json.load(file)\n",
    "quotes = [item[\"quote\"] for item in data[\"reviews\"]]\n",
    "sentiment=[item[\"scoreSentiment\"] for item in data[\"reviews\"]]\n",
    "\n",
    "df = pd.DataFrame({\n",
    "    \"review\": quotes,\n",
    "    \"sentiment\": sentiment\n",
    "})\n",
    "\n",
    "df"
   ]
  },
  {
   "cell_type": "code",
   "execution_count": 4,
   "metadata": {},
   "outputs": [
    {
     "name": "stdout",
     "output_type": "stream",
     "text": [
      "<class 'pandas.core.frame.DataFrame'>\n",
      "RangeIndex: 173 entries, 0 to 172\n",
      "Data columns (total 2 columns):\n",
      " #   Column     Non-Null Count  Dtype \n",
      "---  ------     --------------  ----- \n",
      " 0   review     173 non-null    object\n",
      " 1   sentiment  173 non-null    object\n",
      "dtypes: object(2)\n",
      "memory usage: 2.8+ KB\n",
      "None\n",
      "                                                   review sentiment\n",
      "count                                                 173       173\n",
      "unique                                                172         2\n",
      "top     This is the weakest of the three&#44; mostly b...  NEGATIVE\n",
      "freq                                                    2       105\n"
     ]
    }
   ],
   "source": [
    "# NOTE: unique value가 2인 것을 통해 IMDB 데이터셋에서 감정Label(Sentiment)는 positive, negative 두가지 인 것을 알 수 있다.\n",
    "print(df.info())\n",
    "print(df.describe())"
   ]
  },
  {
   "cell_type": "code",
   "execution_count": 5,
   "metadata": {},
   "outputs": [
    {
     "data": {
      "text/plain": [
       "sentiment\n",
       "NEGATIVE    105\n",
       "POSITIVE     68\n",
       "Name: count, dtype: int64"
      ]
     },
     "execution_count": 5,
     "metadata": {},
     "output_type": "execute_result"
    }
   ],
   "source": [
    "df[\"sentiment\"].value_counts()"
   ]
  },
  {
   "cell_type": "code",
   "execution_count": 6,
   "metadata": {},
   "outputs": [
    {
     "name": "stdout",
     "output_type": "stream",
     "text": [
      "have duplicates: True\n"
     ]
    }
   ],
   "source": [
    "# 데이터가 중복되는 것이 있는지 확인\n",
    "# NOTE: 중복되는 entry가 있는 것을 알 수 있다. 제거 필수!!\n",
    "duplicates = df[df.duplicated()]  \n",
    "print(\"have duplicates:\", len(duplicates) != 0)"
   ]
  },
  {
   "cell_type": "code",
   "execution_count": 7,
   "metadata": {},
   "outputs": [
    {
     "data": {
      "text/plain": [
       "sentiment\n",
       "NEGATIVE    105\n",
       "POSITIVE     67\n",
       "Name: count, dtype: int64"
      ]
     },
     "execution_count": 7,
     "metadata": {},
     "output_type": "execute_result"
    }
   ],
   "source": [
    "# 중복되는 entry 제거하기.\n",
    "df = df.drop_duplicates(subset='review') # 중복되는 행 제거\n",
    "df[\"sentiment\"].value_counts()"
   ]
  },
  {
   "cell_type": "code",
   "execution_count": 8,
   "metadata": {},
   "outputs": [
    {
     "data": {
      "text/plain": [
       "sentiment\n",
       "0    105\n",
       "1     67\n",
       "Name: count, dtype: int64"
      ]
     },
     "execution_count": 8,
     "metadata": {},
     "output_type": "execute_result"
    }
   ],
   "source": [
    "# 긍정/부정:string을 컴퓨터가 사용할 수 있게 1/0:int으로 대응(mapping)\n",
    "df.loc[:, 'sentiment'] = df['sentiment'].map({'POSITIVE': 1, 'NEGATIVE': 0})\n",
    "df.loc[:, 'sentiment'].value_counts()"
   ]
  },
  {
   "cell_type": "code",
   "execution_count": null,
   "metadata": {},
   "outputs": [
    {
     "name": "stderr",
     "output_type": "stream",
     "text": [
      "C:\\Users\\hjo40\\AppData\\Local\\Temp\\ipykernel_29368\\1726311597.py:13: SettingWithCopyWarning: \n",
      "A value is trying to be set on a copy of a slice from a DataFrame.\n",
      "Try using .loc[row_indexer,col_indexer] = value instead\n",
      "\n",
      "See the caveats in the documentation: https://pandas.pydata.org/pandas-docs/stable/user_guide/indexing.html#returning-a-view-versus-a-copy\n",
      "  df['review_cleaned'] = df['review'].apply(clean_text)\n"
     ]
    },
    {
     "data": {
      "text/plain": [
       "<Axes: ylabel='Frequency'>"
      ]
     },
     "execution_count": 9,
     "metadata": {},
     "output_type": "execute_result"
    },
    {
     "data": {
      "image/png": "[encoded data removed]",
      "text/plain": [
       "<Figure size 640x480 with 1 Axes>"
      ]
     },
     "metadata": {},
     "output_type": "display_data"
    }
   ],
   "source": [
    "from nltk.corpus import stopwords\n",
    "stop_words = set(stopwords.words('english'))\n",
    "\n",
    "import re\n",
    "def clean_text(text):\n",
    "    text = text.lower() # 소문자화\n",
    "    text = re.sub(r\"<.*?>\", \"\", text) # HTML태그 제거 \n",
    "    text = re.sub(r\"[^.a-z\\s!?']\", \"\", text) # 특수 문자 및 숫자 제거\n",
    "    text = \" \".join(word for word in text.split() if word not in stop_words) # 불용어 제거\n",
    "    text = re.sub(r'([!?\\'\"])\\1+', r'\\1', text) # !?'이 2개 이상이면 한 개로 만들어줌.\n",
    "    text = re.sub(r'\\s+', ' ', text).strip() # 불필요한 공백 제거\n",
    "    return text\n",
    "df['review_cleaned'] = df['review'].apply(clean_text)\n",
    "pd.Series([len(review) for review in df[\"review_cleaned\"].to_list()]).plot.hist(bins=50)"
   ]
  },
  {
   "cell_type": "code",
   "execution_count": null,
   "metadata": {},
   "outputs": [
    {
     "data": {
      "application/vnd.jupyter.widget-view+json": {
       "model_id": "83d13f1d2e444d78a604a47803853d8e",
       "version_major": 2,
       "version_minor": 0
      },
      "text/plain": [
       "tokenizer_config.json:   0%|          | 0.00/49.0 [00:00<?, ?B/s]"
      ]
     },
     "metadata": {},
     "output_type": "display_data"
    },
    {
     "name": "stderr",
     "output_type": "stream",
     "text": [
      "c:\\Users\\hjo40\\anaconda3\\Lib\\site-packages\\huggingface_hub\\file_download.py:139: UserWarning: `huggingface_hub` cache-system uses symlinks by default to efficiently store duplicated files but your machine does not support them in C:\\Users\\hjo40\\.cache\\huggingface\\hub\\models--bert-base-cased. Caching files will still work but in a degraded version that might require more space on your disk. This warning can be disabled by setting the `HF_HUB_DISABLE_SYMLINKS_WARNING` environment variable. For more details, see https://huggingface.co/docs/huggingface_hub/how-to-cache#limitations.\n",
      "To support symlinks on Windows, you either need to activate Developer Mode or to run Python as an administrator. In order to activate developer mode, see this article: https://docs.microsoft.com/en-us/windows/apps/get-started/enable-your-device-for-development\n",
      "  warnings.warn(message)\n"
     ]
    },
    {
     "data": {
      "application/vnd.jupyter.widget-view+json": {
       "model_id": "c3ac9edd65974398867a32754e8e3da0",
       "version_major": 2,
       "version_minor": 0
      },
      "text/plain": [
       "vocab.txt:   0%|          | 0.00/213k [00:00<?, ?B/s]"
      ]
     },
     "metadata": {},
     "output_type": "display_data"
    },
    {
     "data": {
      "application/vnd.jupyter.widget-view+json": {
       "model_id": "c9dbe55693e64371bb3e0783cb4e406d",
       "version_major": 2,
       "version_minor": 0
      },
      "text/plain": [
       "tokenizer.json:   0%|          | 0.00/436k [00:00<?, ?B/s]"
      ]
     },
     "metadata": {},
     "output_type": "display_data"
    },
    {
     "data": {
      "application/vnd.jupyter.widget-view+json": {
       "model_id": "2dbe426d8b9546d18ec2f6cbcb87474a",
       "version_major": 2,
       "version_minor": 0
      },
      "text/plain": [
       "config.json:   0%|          | 0.00/570 [00:00<?, ?B/s]"
      ]
     },
     "metadata": {},
     "output_type": "display_data"
    },
    {
     "name": "stderr",
     "output_type": "stream",
     "text": [
      "C:\\Users\\hjo40\\AppData\\Local\\Temp\\ipykernel_29368\\1573987894.py:4: SettingWithCopyWarning: \n",
      "A value is trying to be set on a copy of a slice from a DataFrame.\n",
      "Try using .loc[row_indexer,col_indexer] = value instead\n",
      "\n",
      "See the caveats in the documentation: https://pandas.pydata.org/pandas-docs/stable/user_guide/indexing.html#returning-a-view-versus-a-copy\n",
      "  df[\"review_token\"] =  tokenizer(df[\"review_cleaned\"].to_list())[\"input_ids\"]\n"
     ]
    },
    {
     "data": {
      "text/html": [
       "<div>\n",
       "<style scoped>\n",
       "    .dataframe tbody tr th:only-of-type {\n",
       "        vertical-align: middle;\n",
       "    }\n",
       "\n",
       "    .dataframe tbody tr th {\n",
       "        vertical-align: top;\n",
       "    }\n",
       "\n",
       "    .dataframe thead th {\n",
       "        text-align: right;\n",
       "    }\n",
       "</style>\n",
       "<table border=\"1\" class=\"dataframe\">\n",
       "  <thead>\n",
       "    <tr style=\"text-align: right;\">\n",
       "      <th></th>\n",
       "      <th>review</th>\n",
       "      <th>sentiment</th>\n",
       "      <th>review_cleaned</th>\n",
       "      <th>review_token</th>\n",
       "    </tr>\n",
       "  </thead>\n",
       "  <tbody>\n",
       "    <tr>\n",
       "      <th>0</th>\n",
       "      <td>Sadly&amp;#44; the film stumbles through a series ...</td>\n",
       "      <td>0</td>\n",
       "      <td>sadly film stumbles series missteps leaving ev...</td>\n",
       "      <td>[101, 17156, 1273, 24545, 1116, 1326, 5529, 21...</td>\n",
       "    </tr>\n",
       "    <tr>\n",
       "      <th>1</th>\n",
       "      <td>There's plenty of satisfying set pieces here a...</td>\n",
       "      <td>1</td>\n",
       "      <td>there's plenty satisfying set pieces great sou...</td>\n",
       "      <td>[101, 1175, 112, 188, 7722, 18330, 1383, 3423,...</td>\n",
       "    </tr>\n",
       "    <tr>\n",
       "      <th>2</th>\n",
       "      <td>It’s Tom Hardy show and as expected he hits th...</td>\n",
       "      <td>1</td>\n",
       "      <td>tom hardy show expected hits ball park dual ro...</td>\n",
       "      <td>[101, 1106, 1306, 1662, 1183, 1437, 2637, 4919...</td>\n",
       "    </tr>\n",
       "    <tr>\n",
       "      <th>3</th>\n",
       "      <td>This is a flawed&amp;#44; but enjoyable movie desp...</td>\n",
       "      <td>1</td>\n",
       "      <td>flawed enjoyable movie despite inconsistencies...</td>\n",
       "      <td>[101, 22593, 21449, 24815, 2523, 2693, 1107, 7...</td>\n",
       "    </tr>\n",
       "    <tr>\n",
       "      <th>4</th>\n",
       "      <td>Despite featuring a Venom horse and Venom danc...</td>\n",
       "      <td>0</td>\n",
       "      <td>despite featuring venom horse venom dancing mr...</td>\n",
       "      <td>[101, 2693, 3022, 22638, 3241, 22638, 5923, 18...</td>\n",
       "    </tr>\n",
       "  </tbody>\n",
       "</table>\n",
       "</div>"
      ],
      "text/plain": [
       "                                              review sentiment  \\\n",
       "0  Sadly&#44; the film stumbles through a series ...         0   \n",
       "1  There's plenty of satisfying set pieces here a...         1   \n",
       "2  It’s Tom Hardy show and as expected he hits th...         1   \n",
       "3  This is a flawed&#44; but enjoyable movie desp...         1   \n",
       "4  Despite featuring a Venom horse and Venom danc...         0   \n",
       "\n",
       "                                      review_cleaned  \\\n",
       "0  sadly film stumbles series missteps leaving ev...   \n",
       "1  there's plenty satisfying set pieces great sou...   \n",
       "2  tom hardy show expected hits ball park dual ro...   \n",
       "3  flawed enjoyable movie despite inconsistencies...   \n",
       "4  despite featuring venom horse venom dancing mr...   \n",
       "\n",
       "                                        review_token  \n",
       "0  [101, 17156, 1273, 24545, 1116, 1326, 5529, 21...  \n",
       "1  [101, 1175, 112, 188, 7722, 18330, 1383, 3423,...  \n",
       "2  [101, 1106, 1306, 1662, 1183, 1437, 2637, 4919...  \n",
       "3  [101, 22593, 21449, 24815, 2523, 2693, 1107, 7...  \n",
       "4  [101, 2693, 3022, 22638, 3241, 22638, 5923, 18...  "
      ]
     },
     "execution_count": 10,
     "metadata": {},
     "output_type": "execute_result"
    }
   ],
   "source": [
    "from modules.util import save_pkl\n",
    "from transformers import BertTokenizer\n",
    "tokenizer = BertTokenizer.from_pretrained(\"bert-base-cased\")\n",
    "df[\"review_token\"] =  tokenizer(df[\"review_cleaned\"].to_list())[\"input_ids\"]\n",
    "df.head()"
   ]
  },
  {
   "cell_type": "code",
   "execution_count": 15,
   "metadata": {},
   "outputs": [
    {
     "name": "stdout",
     "output_type": "stream",
     "text": [
      "{0: 105, 1: 67}\n"
     ]
    }
   ],
   "source": [
    "print(sample_info := df[\"sentiment\"].value_counts().to_dict())\n",
    "negative_num, postive_num = sample_info.values()"
   ]
  },
  {
   "cell_type": "code",
   "execution_count": 28,
   "metadata": {},
   "outputs": [
    {
     "name": "stdout",
     "output_type": "stream",
     "text": [
      "512\n"
     ]
    },
    {
     "name": "stderr",
     "output_type": "stream",
     "text": [
      "C:\\Users\\hjo40\\AppData\\Local\\Temp\\ipykernel_29368\\3977435679.py:1: SettingWithCopyWarning: \n",
      "A value is trying to be set on a copy of a slice from a DataFrame.\n",
      "Try using .loc[row_indexer,col_indexer] = value instead\n",
      "\n",
      "See the caveats in the documentation: https://pandas.pydata.org/pandas-docs/stable/user_guide/indexing.html#returning-a-view-versus-a-copy\n",
      "  df[\"padded_token\"] = df[\"review_token\"].apply(lambda _X: _X[:-1] + [0] * (512 - len(_X[:-1]) - 1) + [102])\n"
     ]
    },
    {
     "data": {
      "text/html": [
       "<div>\n",
       "<style scoped>\n",
       "    .dataframe tbody tr th:only-of-type {\n",
       "        vertical-align: middle;\n",
       "    }\n",
       "\n",
       "    .dataframe tbody tr th {\n",
       "        vertical-align: top;\n",
       "    }\n",
       "\n",
       "    .dataframe thead th {\n",
       "        text-align: right;\n",
       "    }\n",
       "</style>\n",
       "<table border=\"1\" class=\"dataframe\">\n",
       "  <thead>\n",
       "    <tr style=\"text-align: right;\">\n",
       "      <th></th>\n",
       "      <th>review</th>\n",
       "      <th>sentiment</th>\n",
       "      <th>review_cleaned</th>\n",
       "      <th>review_token</th>\n",
       "      <th>token_length</th>\n",
       "      <th>padded_token</th>\n",
       "    </tr>\n",
       "  </thead>\n",
       "  <tbody>\n",
       "    <tr>\n",
       "      <th>0</th>\n",
       "      <td>Sadly&amp;#44; the film stumbles through a series ...</td>\n",
       "      <td>0</td>\n",
       "      <td>sadly film stumbles series missteps leaving ev...</td>\n",
       "      <td>[101, 17156, 1273, 24545, 1116, 1326, 5529, 21...</td>\n",
       "      <td>27</td>\n",
       "      <td>[101, 17156, 1273, 24545, 1116, 1326, 5529, 21...</td>\n",
       "    </tr>\n",
       "  </tbody>\n",
       "</table>\n",
       "</div>"
      ],
      "text/plain": [
       "                                              review sentiment  \\\n",
       "0  Sadly&#44; the film stumbles through a series ...         0   \n",
       "\n",
       "                                      review_cleaned  \\\n",
       "0  sadly film stumbles series missteps leaving ev...   \n",
       "\n",
       "                                        review_token  token_length  \\\n",
       "0  [101, 17156, 1273, 24545, 1116, 1326, 5529, 21...            27   \n",
       "\n",
       "                                        padded_token  \n",
       "0  [101, 17156, 1273, 24545, 1116, 1326, 5529, 21...  "
      ]
     },
     "execution_count": 28,
     "metadata": {},
     "output_type": "execute_result"
    }
   ],
   "source": [
    "df[\"padded_token\"] = df[\"review_token\"].apply(lambda _X: _X[:-1] + [0] * (512 - len(_X[:-1]) - 1) + [102])\n",
    "print(len(df[\"padded_token\"].iloc[0]))\n",
    "df.head(1)"
   ]
  }
 ],
 "metadata": {
  "kernelspec": {
   "display_name": "base",
   "language": "python",
   "name": "python3"
  },
  "language_info": {
   "codemirror_mode": {
    "name": "ipython",
    "version": 3
   },
   "file_extension": ".py",
   "mimetype": "text/x-python",
   "name": "python",
   "nbconvert_exporter": "python",
   "pygments_lexer": "ipython3",
   "version": "3.12.7"
  }
 },
 "nbformat": 4,
 "nbformat_minor": 2
}
